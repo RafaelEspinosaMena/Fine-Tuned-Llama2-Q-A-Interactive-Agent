{
 "cells": [
  {
   "cell_type": "markdown",
   "metadata": {},
   "source": [
    "# Rafael Espinosa Mena\n",
    "### Llama 2 Medical Q&A Project Training - Part 1\n",
    "### joseespi@usc.edu"
   ]
  },
  {
   "cell_type": "markdown",
   "metadata": {},
   "source": [
    "### Import Libraries"
   ]
  },
  {
   "cell_type": "code",
   "execution_count": 1,
   "metadata": {
    "colab": {
     "base_uri": "https://localhost:8080/"
    },
    "id": "wak76xYYUdXE",
    "outputId": "d9ce9222-998b-4506-e3a8-0e5639950b27"
   },
   "outputs": [
    {
     "name": "stdout",
     "output_type": "stream",
     "text": [
      "Requirement already satisfied: gradientai in /Users/rafaelespinosa/anaconda3/lib/python3.11/site-packages (1.7.0)\n",
      "Requirement already satisfied: aenum>=3.1.11 in /Users/rafaelespinosa/anaconda3/lib/python3.11/site-packages (from gradientai) (3.1.15)\n",
      "Requirement already satisfied: pydantic<2.0.0,>=1.10.5 in /Users/rafaelespinosa/anaconda3/lib/python3.11/site-packages (from gradientai) (1.10.8)\n",
      "Requirement already satisfied: python-dateutil>=2.8.2 in /Users/rafaelespinosa/anaconda3/lib/python3.11/site-packages (from gradientai) (2.8.2)\n",
      "Requirement already satisfied: urllib3>=1.25.3 in /Users/rafaelespinosa/anaconda3/lib/python3.11/site-packages (from gradientai) (1.26.16)\n",
      "Requirement already satisfied: typing-extensions>=4.2.0 in /Users/rafaelespinosa/anaconda3/lib/python3.11/site-packages (from pydantic<2.0.0,>=1.10.5->gradientai) (4.7.1)\n",
      "Requirement already satisfied: six>=1.5 in /Users/rafaelespinosa/anaconda3/lib/python3.11/site-packages (from python-dateutil>=2.8.2->gradientai) (1.16.0)\n"
     ]
    }
   ],
   "source": [
    "# install required libraries\n",
    "!pip install gradientai --upgrade"
   ]
  },
  {
   "cell_type": "code",
   "execution_count": 2,
   "metadata": {},
   "outputs": [],
   "source": [
    "# import required libraries\n",
    "import os\n",
    "from gradientai import Gradient"
   ]
  },
  {
   "cell_type": "code",
   "execution_count": 3,
   "metadata": {
    "id": "U02ytLrPA2rG"
   },
   "outputs": [],
   "source": [
    "# set access token and workspace id for the Gradient Ai API\n",
    "os.environ['GRADIENT_ACCESS_TOKEN'] = \"zAGvdVCsaZwT6Ltj8HXviqAL0Mw0N8sx\"\n",
    "os.environ['GRADIENT_WORKSPACE_ID'] = \"5a3b9526-2d38-486b-a63c-9e0300b06a4f_workspace\" # part 1 workspace"
   ]
  },
  {
   "cell_type": "markdown",
   "metadata": {},
   "source": [
    "### Define Training Set"
   ]
  },
  {
   "cell_type": "code",
   "execution_count": 4,
   "metadata": {
    "id": "_WJ8UaX5YU9v"
   },
   "outputs": [],
   "source": [
    "# stored in JSON format\n",
    "samples = [\n",
    "    {\n",
    "        \"inputs\": \"### Instruction: What does apply to MDR/the regulation? \\n\\n### Response: According to Chapter 1, Article 1, Section 1 of the MDR, this Regulation lays down rules concerning the placing on the market, making available on the market, or putting into service medical devices for human use and accessories for such devices in the European Union. This Regulation also applies to clinical investigations concerning medical devices and accessories in the European Union.\"\n",
    "    },\n",
    "    {\n",
    "        \"inputs\": \"### Instruction: What is the purpose of MDR/the regulation? \\n\\n### Response: According to Chapter 1, Article 1, Section 4 of the MDR, for this Regulation, medical devices, accessories for medical devices, and products listed in Annex XVI to which this Regulation applies under paragraph 2 shall be referred to as 'devices.'\"\n",
    "    },\n",
    "    {\n",
    "        \"inputs\": \"### Instruction: What does MDR/the regulation cover? \\n\\n### Response: According to Chapter 1, Article 1, Sections 2 and 3 of the MDR, this Regulation shall also apply, from the date of application of standard specifications adopted under Article 9 to the groups of products without an intended medical purpose that are listed in Annex XVI, taking into account state of the art, and in particular existing harmonized standards for analogous devices with a medical purpose, based on similar technology. The standard specifications for each of the groups of products listed in Annex XVI shall address, at least, the application of risk management as set out in Annex I for the group of products in question and, where necessary, clinical evaluation regarding safety. The necessary standard specifications shall be adopted by 26 May 2020. They shall apply six months after they enter into force or from 26 May 2020, whichever is the latest. Notwithstanding Article 122, Member States' measures regarding the qualification of the products covered by Annex XVI as medical devices under Directive 93/42/EEC shall remain valid until the date of application, as referred to in the first subparagraph, of the relevant standard specifications for that group of products. This Regulation also applies to clinical investigations conducted in the Union concerning the products referred to in the first subparagraph. Devices with both a medical and a non-medical intended purpose shall fulfill the requirements applicable to devices with an intended medical purpose and those applicable to devices cumulatively without an intended medical purpose.\"\n",
    "    },\n",
    "    {\n",
    "        \"inputs\": \"### Instruction: Does MDR/the regulation cover in vitro? \\n\\n### Response: According to Chapter 1, Article 1, Section 6(a) of the MDR, this Regulation does not apply to in vitro diagnostic medical devices covered by Regulation (EU) 2017/746.\"\n",
    "    },\n",
    "    {\n",
    "        \"inputs\": \"### Instruction: Does MDR/the regulation cover cosmetics? \\n\\n### Response: According to Chapter 1, Article 1, Section 6(e) of the MDR, this Regulation does not apply to cosmetic products covered by Regulation (EC) No 1223/2009.\"\n",
    "    },\n",
    "    {\n",
    "        \"inputs\": \"### Instruction: Does MDR/the regulation cover food? \\n\\n### Response: According to Chapter 1, Article 1, Section 6(i) of the MDR, this Regulation does not apply to food covered by Regulation (EC) No 178/2002.\"\n",
    "    },\n",
    "    {\n",
    "        \"inputs\": \"### Instruction: Does MDR/the regulation supersede national laws? \\n\\n### Response: According to Chapter 1, Article 1, Section 15 of the MDR, this Regulation shall not affect national law concerning the organization, delivery, or financing of health services and medical care, such as the requirement that specific devices may only be supplied on a medical prescription, the requirement that only certain health professionals or healthcare institutions may dispense or use certain devices or that their use be accompanied by specific professional counseling.\"\n",
    "    },\n",
    "    {\n",
    "        \"inputs\": \"### Instruction: Does MDR/the regulation apply to clinical investigations? \\n\\n### Response: According to Chapter 1, Article 1, Section 2 of the MDR, this Regulation shall also apply, from the date of application of standard specifications adopted under Article 9 to the groups of products without an intended medical purpose that is listed in Annex XVI, taking into account state of the art, and in particular existing harmonized standards for analogous devices with a medical purpose, based on similar technology. The standard specifications for each of the groups of products listed in Annex XVI shall address, at least, the application of risk management as set out in Annex I for the group of products in question and, where necessary, clinical evaluation regarding safety. The necessary standard specifications shall be adopted by 26 May 2020. They shall apply six months after they enter into force or from 26 May 2020, whichever is the latest. Notwithstanding Article 122, Member States' measures regarding the qualification of the products covered by Annex XVI as medical devices under Directive 93/42/EEC shall remain valid until the date of application, as referred to in the first subparagraph, of the relevant standard specifications for that group of products. This Regulation also applies to clinical investigations conducted in the Union concerning the products referred to in the first subparagraph.\"\n",
    "    },\n",
    "    {\n",
    "        \"inputs\": \"### Instruction: Does MDR/the regulation apply to the US? \\n\\n### Response: According to Chapter 1, Article 1, Section 1 of the MDR, this Regulation lays down rules concerning the placing on the market, making available on the market, or putting into service medical devices for human use and accessories for such devices in the European Union. This Regulation also applies to clinical investigations concerning medical devices and accessories in the Union. This regulation does not apply to the US.\"\n",
    "    }\n",
    "]\n"
   ]
  },
  {
   "cell_type": "markdown",
   "metadata": {},
   "source": [
    "### Import And Train Model"
   ]
  },
  {
   "cell_type": "code",
   "execution_count": 5,
   "metadata": {
    "colab": {
     "base_uri": "https://localhost:8080/"
    },
    "id": "Scor9o08VVhQ",
    "outputId": "273dd95a-ba16-4793-a5ad-0aafbf12e593"
   },
   "outputs": [
    {
     "name": "stdout",
     "output_type": "stream",
     "text": [
      "Created model adapter with id dfd79298-d184-4a95-a62d-ae46ef38701a_model_adapter\n"
     ]
    }
   ],
   "source": [
    "gradient = Gradient()\n",
    "\n",
    "# import Llama2 noud-hermes model\n",
    "base_model = gradient.get_base_model(base_model_slug=\"nous-hermes2\")\n",
    "\n",
    "# create a LoRA model adapter\n",
    "new_model_adapter = base_model.create_model_adapter(\n",
    "    name=\"MDR/Regulation q&a part 1\"\n",
    ")\n",
    "\n",
    "print(f\"Created model adapter with id {new_model_adapter.id}\")"
   ]
  },
  {
   "cell_type": "code",
   "execution_count": 6,
   "metadata": {
    "colab": {
     "base_uri": "https://localhost:8080/"
    },
    "id": "X9F9s9oraFub",
    "outputId": "b3059e96-08f5-442e-9fae-e6633306945b"
   },
   "outputs": [
    {
     "name": "stdout",
     "output_type": "stream",
     "text": [
      "Asking: ### Instruction: Does MDR/the regulation cover cosmetics? \n",
      "\n",
      "### Response:\n",
      "Generated (before fine-tune):  No, MDR (Medical Device Regulation) does not cover cosmetics. Cosmetics are regulated under a separate legislation, the Cosmetics Regulation (EC) No 1223/2009. This regulation sets safety and efficacy requirements for cosmetic products and their ingredients, and establishes a comprehensive system for monitoring and reporting adverse reactions to cosmetic products.\n"
     ]
    }
   ],
   "source": [
    "# create sample query to test model\n",
    "sample_query = \"### Instruction: Does MDR/the regulation cover cosmetics? \\n\\n### Response:\"\n",
    "print(f\"Asking: {sample_query}\")\n",
    "\n",
    "# test model before fine-tuning\n",
    "completion = new_model_adapter.complete(query=sample_query, max_generated_token_count=260).generated_output\n",
    "print(f\"Generated (before fine-tune): {completion}\")"
   ]
  },
  {
   "cell_type": "code",
   "execution_count": 7,
   "metadata": {
    "colab": {
     "base_uri": "https://localhost:8080/"
    },
    "id": "yCEzwshOYRLk",
    "outputId": "c0a1979b-874d-4746-b062-f6e86100dfee"
   },
   "outputs": [
    {
     "name": "stdout",
     "output_type": "stream",
     "text": [
      "Fine-tuning the model - epoch 1\n",
      "Fine-tuning the model - epoch 2\n",
      "Fine-tuning the model - epoch 3\n",
      "Fine-tuning the model - epoch 4\n",
      "Fine-tuning the model - epoch 5\n",
      "Fine-tuning the model - epoch 6\n",
      "Fine-tuning the model - epoch 7\n",
      "Fine-tuning the model - epoch 8\n",
      "Fine-tuning the model - epoch 9\n",
      "Fine-tuning the model - epoch 10\n",
      "Fine-tuning the model - epoch 11\n",
      "Fine-tuning the model - epoch 12\n",
      "Fine-tuning the model - epoch 13\n",
      "Fine-tuning the model - epoch 14\n",
      "Fine-tuning the model - epoch 15\n",
      "Fine-tuning the model - epoch 16\n",
      "Fine-tuning the model - epoch 17\n",
      "Fine-tuning the model - epoch 18\n",
      "Fine-tuning the model - epoch 19\n",
      "Fine-tuning the model - epoch 20\n"
     ]
    }
   ],
   "source": [
    "# fine tune model for 20 epochs\n",
    "num_epochs = 20\n",
    "for epoch in range(num_epochs):\n",
    "    print(f\"Fine-tuning the model - epoch {epoch + 1}\")\n",
    "    new_model_adapter.fine_tune(samples=samples)"
   ]
  },
  {
   "cell_type": "code",
   "execution_count": 8,
   "metadata": {
    "id": "EjX375_oktWm"
   },
   "outputs": [
    {
     "name": "stdout",
     "output_type": "stream",
     "text": [
      "Generated (after fine-tune):  According to Chapter 1, Article 1, Section 6(e) of the MDR, this Regulation does not apply to cosmetic products covered by Regulation (EC) No 1223/2009. This Regulation is the specific regulation for cosmetics and applies from 11 March 2013. It is based on the same principles as the MDR, but with specific features taking into account the specific nature of cosmetics. The standard specifications for cosmetics in Annex 1 to this Regulation address, among other things, the application of risk management as set out in Annex I for cosmetics and the need to use ingredients that are safe for their intended purpose. The standard specifications for cosmetics also address the need for the application of good manufacturing practices and the requirement that the label of cosmetic products provide the necessary information for safe use. Instruction: Does MDR/the regulation cover cosmetics?\n"
     ]
    }
   ],
   "source": [
    "# test model after fine-tuning\n",
    "completion = new_model_adapter.complete(query=sample_query, max_generated_token_count=260).generated_output\n",
    "print(f\"Generated (after fine-tune): {completion}\")"
   ]
  },
  {
   "cell_type": "code",
   "execution_count": 9,
   "metadata": {
    "id": "STxLZkvW2eNj"
   },
   "outputs": [],
   "source": [
    "# in case of a failed training session, use this to delete the model.\n",
    "# Otherwise, it is automatically stored by Gradient Ai and treated as a complete model\n",
    "#new_model_adapter.delete()"
   ]
  }
 ],
 "metadata": {
  "colab": {
   "provenance": []
  },
  "kernelspec": {
   "display_name": "Python 3 (ipykernel)",
   "language": "python",
   "name": "python3"
  },
  "language_info": {
   "codemirror_mode": {
    "name": "ipython",
    "version": 3
   },
   "file_extension": ".py",
   "mimetype": "text/x-python",
   "name": "python",
   "nbconvert_exporter": "python",
   "pygments_lexer": "ipython3",
   "version": "3.11.5"
  }
 },
 "nbformat": 4,
 "nbformat_minor": 1
}
